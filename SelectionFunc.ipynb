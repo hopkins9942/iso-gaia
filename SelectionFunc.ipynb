{
 "cells": [
  {
   "cell_type": "code",
   "execution_count": 1,
   "id": "757aa41d-8c90-4f44-acd1-d3c2c7a568da",
   "metadata": {},
   "outputs": [],
   "source": [
    "import numpy as np\n",
    "import pandas as pd\n",
    "import healpy as hp\n",
    "import matplotlib.pyplot as plt\n",
    "\n",
    "from astroquery.gaia import Gaia\n",
    "\n",
    "from gaiaunlimited import fetch_utils,utils\n",
    "from gaiaunlimited import subsample            "
   ]
  },
  {
   "cell_type": "code",
   "execution_count": 2,
   "id": "95bd0479-263e-4ef5-a06a-6261bcdf7026",
   "metadata": {},
   "outputs": [
    {
     "name": "stdout",
     "output_type": "stream",
     "text": [
      "gaiadr3.gaia_source\n"
     ]
    }
   ],
   "source": [
    "assert Gaia.MAIN_GAIA_TABLE=='gaiadr3.gaia_source'"
   ]
  },
  {
   "cell_type": "code",
   "execution_count": 3,
   "id": "49aad331-7684-4f39-9920-6f2523a692fb",
   "metadata": {},
   "outputs": [],
   "source": [
    "inDict = {'healpix': 4,'phot_g_mean_mag': [3,20,0.2],'g_rp': [-2.5,5.1,0.4],\n",
    "            'parallax': [10,30,10]\n",
    "         }"
   ]
  },
  {
   "cell_type": "code",
   "execution_count": null,
   "id": "ac1cd825-afd7-439a-9501-313c5af34aff",
   "metadata": {},
   "outputs": [],
   "source": [
    "subsampleSF = subsample.SubsampleSelectionFunction\n",
    "                subsample_query = \"radial_velocity is not null\",\n",
    "                # subsample_query = \"radial_velocity IS NOT NULL AND parallax > 10\",\n",
    "                file_name = 'dr3_lvl4', hplevel_and_binning = inDict)"
   ]
  }
 ],
 "metadata": {
  "kernelspec": {
   "display_name": "Python 3 (ipykernel)",
   "language": "python",
   "name": "python3"
  },
  "language_info": {
   "codemirror_mode": {
    "name": "ipython",
    "version": 3
   },
   "file_extension": ".py",
   "mimetype": "text/x-python",
   "name": "python",
   "nbconvert_exporter": "python",
   "pygments_lexer": "ipython3",
   "version": "3.10.5"
  }
 },
 "nbformat": 4,
 "nbformat_minor": 5
}
